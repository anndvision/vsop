{
 "cells": [
  {
   "cell_type": "code",
   "execution_count": 1,
   "metadata": {},
   "outputs": [],
   "source": [
    "import json\n",
    "\n",
    "from pathlib import Path\n",
    "\n",
    "import wandb\n",
    "import pandas as pd\n",
    "import numpy as np\n",
    "import seaborn as sns\n",
    "\n",
    "from rliable import library as rly\n",
    "from rliable import metrics\n",
    "from rliable import plot_utils\n",
    "\n",
    "\n",
    "float_formatter = \"{:.2f}\".format\n",
    "np.set_printoptions(formatter={'float_kind':float_formatter})\n",
    "\n",
    "_ = sns.set(style=\"darkgrid\", palette=\"colorblind\")"
   ]
  },
  {
   "cell_type": "code",
   "execution_count": 2,
   "metadata": {},
   "outputs": [],
   "source": [
    "import matplotlib.pyplot as plt\n",
    "from matplotlib.ticker import PercentFormatter\n",
    "from matplotlib.ticker import MaxNLocator\n",
    "import matplotlib.patches as mpatches\n",
    "import seaborn as sns\n",
    "\n",
    "sns.set_style(\"white\")\n",
    "\n",
    "# Matplotlib params\n",
    "from matplotlib import rcParams\n",
    "from matplotlib import rc\n",
    "\n",
    "rcParams['legend.loc'] = 'best'\n",
    "rcParams['pdf.fonttype'] = 42\n",
    "rcParams['ps.fonttype'] = 42\n",
    "\n",
    "rc('text', usetex=False)"
   ]
  },
  {
   "cell_type": "code",
   "execution_count": 3,
   "metadata": {},
   "outputs": [],
   "source": [
    "def set_axes(ax, xlim, ylim, xlabel, ylabel):\n",
    "  ax.set_xlim(xlim)\n",
    "  ax.set_ylim(ylim)\n",
    "  ax.set_xlabel(xlabel, labelpad=14)\n",
    "  ax.set_ylabel(ylabel, labelpad=14)\n",
    " \n",
    "def set_ticks(ax, xticks, xticklabels, yticks, yticklabels):\n",
    "  ax.set_xticks(xticks)\n",
    "  ax.set_xticklabels(xticklabels)\n",
    "  ax.set_yticks(yticks)\n",
    "  ax.set_yticklabels(yticklabels)\n",
    "\n",
    "def decorate_axis(ax, wrect=10, hrect=10, labelsize='large'):\n",
    "  # Hide the right and top spines\n",
    "  ax.spines['right'].set_visible(False)\n",
    "  ax.spines['top'].set_visible(False)\n",
    "  ax.spines['left'].set_linewidth(2)\n",
    "  ax.spines['bottom'].set_linewidth(2)\n",
    "  # Deal with ticks and the blank space at the origin\n",
    "  ax.tick_params(length=0.1, width=0.1, labelsize=labelsize)\n",
    "  # Pablos' comment\n",
    "  ax.spines['left'].set_position(('outward', hrect))\n",
    "  ax.spines['bottom'].set_position(('outward', wrect))"
   ]
  },
  {
   "cell_type": "code",
   "execution_count": 4,
   "metadata": {},
   "outputs": [],
   "source": [
    "envs = [\n",
    "    \"Asterix-MinAtar\",\n",
    "    \"Breakout-MinAtar\",\n",
    "    \"Freeway-MinAtar\",\n",
    "    \"SpaceInvaders-MinAtar\",\n",
    "]\n",
    "\n",
    "methods = [\n",
    "    \"ppo\",\n",
    "    \"vsop\",\n",
    "    \"a3c\",\n",
    "]\n",
    "\n",
    "base_dir = Path().resolve() / \"output\"\n",
    "\n",
    "data_dict = {}\n",
    "for method in methods:\n",
    "    method_output = {}\n",
    "    for env in envs:\n",
    "        path = base_dir / f\"{env}/{method}/\"\n",
    "        returns = np.load(path / \"returns.npy\")\n",
    "        method_output.update({env: list(returns[:, -100:].mean(-1))})\n",
    "    data_dict.update({method: method_output})\n"
   ]
  },
  {
   "cell_type": "code",
   "execution_count": 5,
   "metadata": {},
   "outputs": [],
   "source": [
    "for method, data in data_dict.items():\n",
    "    for environment, scores in data.items():\n",
    "        nan_mask = np.isnan(scores)\n",
    "        for i, is_nan in enumerate(nan_mask):\n",
    "            if is_nan:\n",
    "                data_dict[method][environment][i] = np.nanmedian(scores)"
   ]
  },
  {
   "cell_type": "code",
   "execution_count": 6,
   "metadata": {},
   "outputs": [],
   "source": [
    "def score_normalization(res_dict, min_scores, max_scores):\n",
    "  norm_scores = {}\n",
    "  for game, scores in res_dict.items():\n",
    "    norm_scores[game] = (np.array(scores) - min_scores[game])/(max_scores[game] - min_scores[game])\n",
    "  return norm_scores\n",
    "\n",
    "def convert_to_matrix(score_dict):\n",
    "   keys = sorted(list(score_dict.keys()))\n",
    "   return np.stack([score_dict[k] for k in keys], axis=1)"
   ]
  },
  {
   "cell_type": "code",
   "execution_count": 7,
   "metadata": {},
   "outputs": [],
   "source": [
    "IQM = lambda x: metrics.aggregate_iqm(x) # Interquartile Mean\n",
    "OG = lambda x: metrics.aggregate_optimality_gap(x, 1.0) # Optimality Gap\n",
    "MEAN = lambda x: metrics.aggregate_mean(x)\n",
    "MEDIAN = lambda x: metrics.aggregate_median(x)"
   ]
  },
  {
   "cell_type": "code",
   "execution_count": 8,
   "metadata": {},
   "outputs": [],
   "source": [
    "# Create PPO Normalization\n",
    "MEAN_PPO_SCORES = {key: np.mean(val) for key, val in data_dict['ppo'].items()}\n",
    "ZERO_SCORES = {key: 0.0 for key in envs}\n",
    "ppo_normalize = lambda scores: score_normalization(\n",
    "    scores, ZERO_SCORES, MEAN_PPO_SCORES\n",
    ")\n",
    "\n",
    "algorithms = list(data_dict.keys())\n",
    "norm_data = {'ppo': {}}\n",
    "for method in algorithms:\n",
    "  scores = data_dict[method]\n",
    "  norm_data['ppo'][method] = convert_to_matrix(\n",
    "      ppo_normalize(scores)\n",
    "    )"
   ]
  },
  {
   "cell_type": "code",
   "execution_count": 9,
   "metadata": {},
   "outputs": [],
   "source": [
    "ppo_scores = norm_data['ppo']\n",
    "aggregate_func = lambda x: np.array([MEDIAN(x), IQM(x), MEAN(x)])\n",
    "aggregate_scores, aggregate_interval_estimates = rly.get_interval_estimates(\n",
    "    ppo_scores, aggregate_func, reps=50000)"
   ]
  },
  {
   "cell_type": "code",
   "execution_count": 10,
   "metadata": {},
   "outputs": [
    {
     "data": {
      "image/png": "[encoded data removed]",
      "text/plain": [
       "<Figure size 1020x111 with 3 Axes>"
      ]
     },
     "metadata": {},
     "output_type": "display_data"
    }
   ],
   "source": [
    "algorithms = [\"vsop\", \"ppo\", \"a3c\"]\n",
    "fig, axes = plot_utils.plot_interval_estimates(\n",
    "    aggregate_scores, \n",
    "    aggregate_interval_estimates,\n",
    "    metric_names = ['Median', 'IQM', 'Mean'],\n",
    "    algorithms=algorithms,\n",
    "    xlabel_y_coordinate=-0.8,\n",
    "    xlabel='PPO Normalized Score')\n",
    "\n",
    "plt.show()"
   ]
  },
  {
   "cell_type": "code",
   "execution_count": 21,
   "metadata": {},
   "outputs": [],
   "source": [
    "pairs = [\n",
    "  ['vsop', 'ppo'],\n",
    "  [\"vsop\", \"a3c\"],\n",
    "]\n",
    "\n",
    "algorithm_pairs = {}\n",
    "for pair in pairs[::-1]:\n",
    "  d1 = norm_data['ppo'][pair[0]]\n",
    "  d2 = norm_data['ppo'][pair[1]]\n",
    "  # d_concat = np.concatenate((d1, d2), axis=-1)\n",
    "  algorithm_pairs['_'.join(pair)] = (d1, d2)\n",
    "\n",
    "probabilities, probability_cis = rly.get_interval_estimates(\n",
    "    algorithm_pairs, metrics.probability_of_improvement, reps=2000)"
   ]
  },
  {
   "cell_type": "code",
   "execution_count": 22,
   "metadata": {},
   "outputs": [
    {
     "data": {
      "image/png": "[encoded data removed]",
      "text/plain": [
       "<Figure size 370x210 with 2 Axes>"
      ]
     },
     "metadata": {},
     "output_type": "display_data"
    }
   ],
   "source": [
    "fig, ax = plt.subplots(nrows=1, ncols=1, figsize=(3.7, 2.1))\n",
    "h = 0.6\n",
    "\n",
    "ax2 = ax.twinx()\n",
    "colors = sns.color_palette('colorblind')\n",
    "\n",
    "for i, (pair, p) in enumerate(probabilities.items()):  \n",
    "  (l, u), p  = probability_cis[pair], p\n",
    "\n",
    "  ax.barh(y=i, width=u-l, height=h, \n",
    "          left=l, color=colors[i], \n",
    "          alpha=0.75, label=pair[0])\n",
    "  ax2.barh(y=i, width=u-l, height=h, \n",
    "          left=l, color=colors[i], \n",
    "          alpha=0.0, label=pair[1])\n",
    "  ax.vlines(x=p, ymin=i-7.5 * h/16, ymax=i+(6*h/16),\n",
    "            color='k', alpha=0.85)\n",
    "  \n",
    "\n",
    "ax.set_yticks(list(range(len(pairs))))\n",
    "ax2.set_yticks(range(len(pairs)))\n",
    "pairs = [x.split('_') for x in probabilities.keys()]\n",
    "ax2.set_yticklabels([pair[1] for pair in pairs], fontsize='large')\n",
    "ax.set_yticklabels([pair[0] for pair in pairs], fontsize='large')\n",
    "ax2.set_ylabel('Algorithm Y', fontweight='bold', rotation='horizontal', fontsize='x-large')\n",
    "ax.set_ylabel('Algorithm X', fontweight='bold', rotation='horizontal', fontsize='x-large')\n",
    "ax.set_xticks([0.4, 0.5, 0.6, 0.7, 0.8, 0.9, 1.0])\n",
    "ax.yaxis.set_label_coords(-0.2, 1.0)\n",
    "ax2.yaxis.set_label_coords(1.15, 1.13)\n",
    "decorate_axis(ax, wrect=5)\n",
    "decorate_axis(ax2, wrect=5)\n",
    "       \n",
    "ax.tick_params(axis='both', which='major', labelsize='x-large')\n",
    "ax2.tick_params(axis='both', which='major', labelsize='x-large')\n",
    "ax.set_xlabel('P(X > Y)', fontsize='xx-large')\n",
    "ax.grid(axis='x', alpha=0.2)\n",
    "plt.subplots_adjust(wspace=0.05)\n",
    "ax.spines['left'].set_visible(False)\n",
    "ax2.spines['left'].set_visible(False)\n",
    "\n",
    "\n",
    "plt.show()"
   ]
  },
  {
   "cell_type": "code",
   "execution_count": null,
   "metadata": {},
   "outputs": [],
   "source": []
  },
  {
   "cell_type": "code",
   "execution_count": null,
   "metadata": {},
   "outputs": [],
   "source": []
  }
 ],
 "metadata": {
  "kernelspec": {
   "display_name": "Python 3",
   "language": "python",
   "name": "python3"
  },
  "language_info": {
   "codemirror_mode": {
    "name": "ipython",
    "version": 3
   },
   "file_extension": ".py",
   "mimetype": "text/x-python",
   "name": "python",
   "nbconvert_exporter": "python",
   "pygments_lexer": "ipython3",
   "version": "3.10.11"
  },
  "orig_nbformat": 4
 },
 "nbformat": 4,
 "nbformat_minor": 2
}
